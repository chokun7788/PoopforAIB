{
  "nbformat": 4,
  "nbformat_minor": 0,
  "metadata": {
    "colab": {
      "provenance": [],
      "gpuType": "T4",
      "name": "Chokun7788.ipynb",
      "include_colab_link": true
    },
    "kernelspec": {
      "name": "python3",
      "display_name": "Python 3"
    },
    "language_info": {
      "name": "python"
    },
    "accelerator": "GPU"
  },
  "cells": [
    {
      "cell_type": "markdown",
      "metadata": {
        "id": "view-in-github",
        "colab_type": "text"
      },
      "source": [
        "<a href=\"https://colab.research.google.com/github/chokun7788/PoopforAIB/blob/main/Chokun7788.ipynb\" target=\"_parent\"><img src=\"https://colab.research.google.com/assets/colab-badge.svg\" alt=\"Open In Colab\"/></a>"
      ]
    },
    {
      "cell_type": "code",
      "source": [
        "from google.colab import drive\n",
        "drive.mount('/content/drive')"
      ],
      "metadata": {
        "id": "GjE9Twx3K21K"
      },
      "execution_count": null,
      "outputs": []
    },
    {
      "cell_type": "code",
      "execution_count": null,
      "metadata": {
        "id": "eWMkHzkGKZeR"
      },
      "outputs": [],
      "source": [
        "!pip install -U fastai scikit-learn"
      ]
    },
    {
      "cell_type": "markdown",
      "source": [
        "###import"
      ],
      "metadata": {
        "id": "igojrR8DLM5i"
      }
    },
    {
      "cell_type": "code",
      "source": [
        "from fastai.vision.all import *\n",
        "import timm\n",
        "from sklearn.metrics import classification_report,f1_score\n",
        "from fastai.callback.tracker import SaveModelCallback\n",
        "import matplotlib.pyplot as plt\n",
        "import numpy as np"
      ],
      "metadata": {
        "id": "yInGYFBsLO82"
      },
      "execution_count": null,
      "outputs": []
    },
    {
      "cell_type": "markdown",
      "source": [
        "###Path"
      ],
      "metadata": {
        "id": "C6l2BAbILxe9"
      }
    },
    {
      "cell_type": "code",
      "source": [
        "path = Path('/content/drive/MyDrive/TheRealDataV1')\n",
        "train_path = path/'train'\n",
        "valid_path = path/'valid'\n",
        "test_path = path/'test'\n",
        "\n",
        "class_names = ['Blood', 'Diarrhea', 'Normal', 'Mucus', 'Yellow', 'Green']\n",
        "num_classes = len(class_names)\n",
        "image_size = 224 #ขนาด(กว้างxยาว)\n",
        "batch_size = 32 #รูปภาพที่ยัดพร้อมกัน"
      ],
      "metadata": {
        "id": "qest1dw-LyWw"
      },
      "execution_count": null,
      "outputs": []
    },
    {
      "cell_type": "markdown",
      "source": [
        "###Augment"
      ],
      "metadata": {
        "id": "S7Js1_XbMnt4"
      }
    },
    {
      "cell_type": "markdown",
      "source": [],
      "metadata": {
        "id": "Ik_lcifV39Po"
      }
    },
    {
      "cell_type": "code",
      "source": [
        "item_tfms = [Resize(image_size,method = ResizeMethod.Squish)]\n",
        "custom_batch_tfms = aug_transforms(\n",
        "    do_flip=True, #พลิกแนวนอน\n",
        "    max_rotate=15.0, #สุ่มหมุน 15องศา\n",
        "    min_zoom=1.0, #ซูมน้อยสุด\n",
        "    max_zoom=1.15, #สุ่มซูม\n",
        "    max_warp=0.15, #สุ่มบิดมุมภาพ\n",
        "    p_affine=0.75 #สุ่มค.น่าจะเป็น\n",
        ") + [RandomErasing(p=0.3, sl=0.0, sh=0.25, min_aspect=0.3)] #สุ่มพื้นที่บางส่วนแล้วปรับขนาตาม image_size"
      ],
      "metadata": {
        "id": "_WV_aOu4MplM"
      },
      "execution_count": null,
      "outputs": []
    },
    {
      "cell_type": "markdown",
      "source": [
        "###DataLoaders"
      ],
      "metadata": {
        "id": "KC0IGxzChehl"
      }
    },
    {
      "cell_type": "code",
      "source": [
        "dls = ImageDataLoaders.from_folder(\n",
        "    path,\n",
        "    train='train',\n",
        "    valid='valid',\n",
        "    item_tfms=item_tfms,\n",
        "    batch_tfms=custom_batch_tfms,\n",
        "    bs=batch_size,\n",
        "    seed=42\n",
        ")\n",
        "print(f\"Classes: {dls.vocab}\")\n",
        "print(f\"Number of classes : {dls.c}\")"
      ],
      "metadata": {
        "id": "-Zob30tAhzfG"
      },
      "execution_count": null,
      "outputs": []
    },
    {
      "cell_type": "markdown",
      "source": [
        "###Model"
      ],
      "metadata": {
        "id": "m1dHaiWfinac"
      }
    },
    {
      "cell_type": "code",
      "source": [
        "model_name = 'convnextv2_tiny.fcmae_ft_in22k_in1k'"
      ],
      "metadata": {
        "id": "AV0cS4NclU-_"
      },
      "execution_count": null,
      "outputs": []
    },
    {
      "cell_type": "code",
      "source": [
        "learn = vision_learner(\n",
        "    dls,\n",
        "    model_name,\n",
        "    metrics=[\n",
        "        accuracy,\n",
        "        error_rate,\n",
        "        F1Score(average='macro'),\n",
        "    ],\n",
        "    cbs=[\n",
        "        SaveModelCallback(\n",
        "            monitor='f1_score',\n",
        "            fname='best_f1_checkpoint',\n",
        "            with_opt=True,\n",
        "            comp=np.greater\n",
        "        )\n",
        "    ]\n",
        ")"
      ],
      "metadata": {
        "id": "EXEm3Sm_jBkt"
      },
      "execution_count": null,
      "outputs": []
    },
    {
      "cell_type": "markdown",
      "source": [
        "###Learning Rate"
      ],
      "metadata": {
        "id": "GUG-8TRSmM7Z"
      }
    },
    {
      "cell_type": "code",
      "source": [
        "# lr_find_results = learn.lr_find(suggest_funcs=(valley, slide))\n",
        "# print(f\"Suggested learning rates: valley={lr_find_results.valley}, slide={lr_find_results.slide}\")"
      ],
      "metadata": {
        "id": "3BZZK4ucmO8e"
      },
      "execution_count": null,
      "outputs": []
    },
    {
      "cell_type": "markdown",
      "source": [
        "###Train Model"
      ],
      "metadata": {
        "id": "tGHTzWVll8TB"
      }
    },
    {
      "cell_type": "code",
      "source": [
        "epochs = 30\n",
        "freeze = 7\n",
        "lr = 0.0008317637839354575"
      ],
      "metadata": {
        "id": "StOXKdGBl-N0"
      },
      "execution_count": null,
      "outputs": []
    },
    {
      "cell_type": "code",
      "source": [
        "learn.fine_tune(\n",
        "    epochs,\n",
        "    base_lr = lr,\n",
        "    freeze_epochs=freeze\n",
        ")"
      ],
      "metadata": {
        "id": "YkOVhlOJn9e4"
      },
      "execution_count": null,
      "outputs": []
    },
    {
      "cell_type": "code",
      "source": [
        "learn.recorder.plot_loss()\n",
        "plt.show()"
      ],
      "metadata": {
        "id": "HHdx-VxyoFsv"
      },
      "execution_count": null,
      "outputs": []
    },
    {
      "cell_type": "markdown",
      "source": [
        "###Best Model"
      ],
      "metadata": {
        "id": "p3QIWNjnzdPg"
      }
    },
    {
      "cell_type": "code",
      "source": [
        "best_checkpoint_name = 'best_f1_checkpoint'\n",
        "checkpoint_path_to_load = learn.path/learn.model_dir/f'{best_checkpoint_name}.pth'"
      ],
      "metadata": {
        "id": "bpLVMNjDzgzA"
      },
      "execution_count": null,
      "outputs": []
    },
    {
      "cell_type": "code",
      "source": [
        "learn.load(best_checkpoint_name)\n",
        "print(f\"Successfully loaded weights from '{best_checkpoint_name}'.\")"
      ],
      "metadata": {
        "id": "M0dpioVCzms7"
      },
      "execution_count": null,
      "outputs": []
    },
    {
      "cell_type": "markdown",
      "source": [
        "###Save Model"
      ],
      "metadata": {
        "id": "9_yZcinAqUOd"
      }
    },
    {
      "cell_type": "code",
      "source": [
        "save_model_directory = path/'convnextv2_thev1'\n",
        "save_model_directory.mkdir(parents=True, exist_ok=True)"
      ],
      "metadata": {
        "id": "MKVi6XwwqXbY"
      },
      "execution_count": null,
      "outputs": []
    },
    {
      "cell_type": "code",
      "source": [
        "model_export_filename = 'convnextv2_thev1_best.pkl'\n",
        "model_export_path = save_model_directory/model_export_filename\n",
        "\n",
        "learn.export(model_export_path)\n",
        "print(f\"Best Full Learner exported to: {model_export_path}\")"
      ],
      "metadata": {
        "id": "_QPkgh3N0OLG"
      },
      "execution_count": null,
      "outputs": []
    },
    {
      "cell_type": "markdown",
      "source": [
        "###Test Set"
      ],
      "metadata": {
        "id": "E0Wrkxlm0KPm"
      }
    },
    {
      "cell_type": "code",
      "source": [
        "best_model_pkl_path = Path('/content/drive/MyDrive/TheRealDataV1/convnextv2_thev1/convnextv2_thev1_best.pkl')\n",
        "eval_learner = load_learner(best_model_pkl_path)\n",
        "test_files = get_image_files(test_path).sorted()\n",
        "test_dl = eval_learner.dls.test_dl(test_files, with_labels=True)"
      ],
      "metadata": {
        "id": "h42FDAkO0ZLb"
      },
      "execution_count": null,
      "outputs": []
    },
    {
      "cell_type": "code",
      "source": [
        "test_preds_raw, test_targs, test_decoded_preds = eval_learner.get_preds(dl=test_dl, with_decoded=True)\n",
        "target_names_test = eval_learner.dls.vocab\n",
        "report_test_dict = classification_report(\n",
        "  test_targs.numpy(),\n",
        "  test_decoded_preds.numpy(),\n",
        "  target_names=target_names_test,\n",
        "  output_dict=True\n",
        ")\n",
        "print(classification_report(\n",
        "  test_targs.numpy(),\n",
        "  test_decoded_preds.numpy(),\n",
        "  target_names=target_names_test\n",
        ")\n",
        ")\n",
        "\n",
        "print(f\"Test Set Macro F1-Score (Best Model): {report_test_dict['macro avg']['f1-score']:.4f}\")\n",
        "print(f\"Test Set Weighted F1-Score (Best Model): {report_test_dict['weighted avg']['f1-score']:.4f}\")\n",
        "\n",
        "print(\"Test Set Confusion Matrix (Best Model) ---\")\n",
        "cm_test = ConfusionMatrix(actuals=test_targs.numpy(), preds=test_decoded_preds.numpy())\n",
        "cm_test.plot(class_names=target_names_test, normalize=True, figsize=(10,10), dpi=70)\n",
        "plt.title(\"Test Set Confusion Matrix (Normalized - Best Model)\")\n",
        "plt.show()"
      ],
      "metadata": {
        "id": "TjcY1Hzj1BTd"
      },
      "execution_count": null,
      "outputs": []
    },
    {
      "cell_type": "code",
      "source": [
        "from fastai.interpret import ConfusionMatrix\n",
        "\n",
        "cm_test = ConfusionMatrix(\n",
        "  actuals=test_targs.numpy(),      # Label จริง\n",
        "  preds=test_decoded_preds.numpy() # Label ที่โมเดลทำนาย\n",
        ")\n",
        "\n",
        "cm_test.plot(\n",
        "  class_names=target_names_test, # ชื่อคลาสสำหรับแกน X และ Y\n",
        "  normalize=False,             # <--- ตั้งเป็น False เพื่อแสดงจำนวนเต็ม\n",
        "  figsize=(10,10),             # ขนาดของรูปภาพ (ปรับได้ตามความเหมาะสม)\n",
        "  cmap='Blues',                # ชุดสีที่ใช้ (เช่น 'Blues', 'Greens', 'Reds')\n",
        "  dpi=70                       # ความละเอียดของรูปภาพ\n",
        ")\n",
        "plt.title(\"Confusion Matrix (Test Set - ConvNeXt Updated)\") # <--- ตั้งชื่อหัวเรื่องตามต้องการ\n",
        "plt.show()"
      ],
      "metadata": {
        "id": "SUWqHlKNUGNu"
      },
      "execution_count": null,
      "outputs": []
    }
  ]
}