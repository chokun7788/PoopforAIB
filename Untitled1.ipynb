{
  "nbformat": 4,
  "nbformat_minor": 0,
  "metadata": {
    "colab": {
      "provenance": [],
      "mount_file_id": "1t4hoSX_Q0MLmU_7BHx49L1tAJ7by_IYq",
      "authorship_tag": "ABX9TyMyYhMgLrvTiIHnMlxFIphK",
      "include_colab_link": true
    },
    "kernelspec": {
      "name": "python3",
      "display_name": "Python 3"
    },
    "language_info": {
      "name": "python"
    }
  },
  "cells": [
    {
      "cell_type": "markdown",
      "metadata": {
        "id": "view-in-github",
        "colab_type": "text"
      },
      "source": [
        "<a href=\"https://colab.research.google.com/github/chokun7788/PoopforAIB/blob/main/Untitled1.ipynb\" target=\"_parent\"><img src=\"https://colab.research.google.com/assets/colab-badge.svg\" alt=\"Open In Colab\"/></a>"
      ]
    },
    {
      "cell_type": "code",
      "execution_count": 1,
      "metadata": {
        "colab": {
          "base_uri": "https://localhost:8080/",
          "height": 1000
        },
        "id": "zb6GvJh9x5xO",
        "outputId": "6ecc8b08-af2f-47fd-a440-332c9e52d51e"
      },
      "outputs": [
        {
          "output_type": "stream",
          "name": "stdout",
          "text": [
            "Found 3347 images belonging to 6 classes.\n",
            "Found 418 images belonging to 6 classes.\n",
            "Found 423 images belonging to 6 classes.\n",
            "Class Indices: {'Blood': 0, 'Diarrhea': 1, 'Green': 2, 'Mucus': 3, 'Normal': 4, 'Yellow': 5}\n",
            "Calculated Class Weights for training: {0: np.float64(3.9562647754137115), 1: np.float64(0.47923825887743415), 2: np.float64(5.363782051282051), 3: np.float64(3.8471264367816094), 4: np.float64(0.3831272893772894), 5: np.float64(1.655291790306627)}\n",
            "Downloading data from https://storage.googleapis.com/keras-applications/efficientnetb0_notop.h5\n",
            "\u001b[1m16705208/16705208\u001b[0m \u001b[32m━━━━━━━━━━━━━━━━━━━━\u001b[0m\u001b[37m\u001b[0m \u001b[1m0s\u001b[0m 0us/step\n",
            "Number of layers in the base model: 238\n"
          ]
        },
        {
          "output_type": "display_data",
          "data": {
            "text/plain": [
              "\u001b[1mModel: \"sequential\"\u001b[0m\n"
            ],
            "text/html": [
              "<pre style=\"white-space:pre;overflow-x:auto;line-height:normal;font-family:Menlo,'DejaVu Sans Mono',consolas,'Courier New',monospace\"><span style=\"font-weight: bold\">Model: \"sequential\"</span>\n",
              "</pre>\n"
            ]
          },
          "metadata": {}
        },
        {
          "output_type": "display_data",
          "data": {
            "text/plain": [
              "┏━━━━━━━━━━━━━━━━━━━━━━━━━━━━━━━━━┳━━━━━━━━━━━━━━━━━━━━━━━━┳━━━━━━━━━━━━━━━┓\n",
              "┃\u001b[1m \u001b[0m\u001b[1mLayer (type)                   \u001b[0m\u001b[1m \u001b[0m┃\u001b[1m \u001b[0m\u001b[1mOutput Shape          \u001b[0m\u001b[1m \u001b[0m┃\u001b[1m \u001b[0m\u001b[1m      Param #\u001b[0m\u001b[1m \u001b[0m┃\n",
              "┡━━━━━━━━━━━━━━━━━━━━━━━━━━━━━━━━━╇━━━━━━━━━━━━━━━━━━━━━━━━╇━━━━━━━━━━━━━━━┩\n",
              "│ efficientnetb0 (\u001b[38;5;33mFunctional\u001b[0m)     │ (\u001b[38;5;45mNone\u001b[0m, \u001b[38;5;34m7\u001b[0m, \u001b[38;5;34m7\u001b[0m, \u001b[38;5;34m1280\u001b[0m)     │     \u001b[38;5;34m4,049,571\u001b[0m │\n",
              "├─────────────────────────────────┼────────────────────────┼───────────────┤\n",
              "│ global_average_pooling2d        │ (\u001b[38;5;45mNone\u001b[0m, \u001b[38;5;34m1280\u001b[0m)           │             \u001b[38;5;34m0\u001b[0m │\n",
              "│ (\u001b[38;5;33mGlobalAveragePooling2D\u001b[0m)        │                        │               │\n",
              "├─────────────────────────────────┼────────────────────────┼───────────────┤\n",
              "│ batch_normalization             │ (\u001b[38;5;45mNone\u001b[0m, \u001b[38;5;34m1280\u001b[0m)           │         \u001b[38;5;34m5,120\u001b[0m │\n",
              "│ (\u001b[38;5;33mBatchNormalization\u001b[0m)            │                        │               │\n",
              "├─────────────────────────────────┼────────────────────────┼───────────────┤\n",
              "│ dropout (\u001b[38;5;33mDropout\u001b[0m)               │ (\u001b[38;5;45mNone\u001b[0m, \u001b[38;5;34m1280\u001b[0m)           │             \u001b[38;5;34m0\u001b[0m │\n",
              "├─────────────────────────────────┼────────────────────────┼───────────────┤\n",
              "│ dense (\u001b[38;5;33mDense\u001b[0m)                   │ (\u001b[38;5;45mNone\u001b[0m, \u001b[38;5;34m512\u001b[0m)            │       \u001b[38;5;34m655,872\u001b[0m │\n",
              "├─────────────────────────────────┼────────────────────────┼───────────────┤\n",
              "│ dense_1 (\u001b[38;5;33mDense\u001b[0m)                 │ (\u001b[38;5;45mNone\u001b[0m, \u001b[38;5;34m6\u001b[0m)              │         \u001b[38;5;34m3,078\u001b[0m │\n",
              "└─────────────────────────────────┴────────────────────────┴───────────────┘\n"
            ],
            "text/html": [
              "<pre style=\"white-space:pre;overflow-x:auto;line-height:normal;font-family:Menlo,'DejaVu Sans Mono',consolas,'Courier New',monospace\">┏━━━━━━━━━━━━━━━━━━━━━━━━━━━━━━━━━┳━━━━━━━━━━━━━━━━━━━━━━━━┳━━━━━━━━━━━━━━━┓\n",
              "┃<span style=\"font-weight: bold\"> Layer (type)                    </span>┃<span style=\"font-weight: bold\"> Output Shape           </span>┃<span style=\"font-weight: bold\">       Param # </span>┃\n",
              "┡━━━━━━━━━━━━━━━━━━━━━━━━━━━━━━━━━╇━━━━━━━━━━━━━━━━━━━━━━━━╇━━━━━━━━━━━━━━━┩\n",
              "│ efficientnetb0 (<span style=\"color: #0087ff; text-decoration-color: #0087ff\">Functional</span>)     │ (<span style=\"color: #00d7ff; text-decoration-color: #00d7ff\">None</span>, <span style=\"color: #00af00; text-decoration-color: #00af00\">7</span>, <span style=\"color: #00af00; text-decoration-color: #00af00\">7</span>, <span style=\"color: #00af00; text-decoration-color: #00af00\">1280</span>)     │     <span style=\"color: #00af00; text-decoration-color: #00af00\">4,049,571</span> │\n",
              "├─────────────────────────────────┼────────────────────────┼───────────────┤\n",
              "│ global_average_pooling2d        │ (<span style=\"color: #00d7ff; text-decoration-color: #00d7ff\">None</span>, <span style=\"color: #00af00; text-decoration-color: #00af00\">1280</span>)           │             <span style=\"color: #00af00; text-decoration-color: #00af00\">0</span> │\n",
              "│ (<span style=\"color: #0087ff; text-decoration-color: #0087ff\">GlobalAveragePooling2D</span>)        │                        │               │\n",
              "├─────────────────────────────────┼────────────────────────┼───────────────┤\n",
              "│ batch_normalization             │ (<span style=\"color: #00d7ff; text-decoration-color: #00d7ff\">None</span>, <span style=\"color: #00af00; text-decoration-color: #00af00\">1280</span>)           │         <span style=\"color: #00af00; text-decoration-color: #00af00\">5,120</span> │\n",
              "│ (<span style=\"color: #0087ff; text-decoration-color: #0087ff\">BatchNormalization</span>)            │                        │               │\n",
              "├─────────────────────────────────┼────────────────────────┼───────────────┤\n",
              "│ dropout (<span style=\"color: #0087ff; text-decoration-color: #0087ff\">Dropout</span>)               │ (<span style=\"color: #00d7ff; text-decoration-color: #00d7ff\">None</span>, <span style=\"color: #00af00; text-decoration-color: #00af00\">1280</span>)           │             <span style=\"color: #00af00; text-decoration-color: #00af00\">0</span> │\n",
              "├─────────────────────────────────┼────────────────────────┼───────────────┤\n",
              "│ dense (<span style=\"color: #0087ff; text-decoration-color: #0087ff\">Dense</span>)                   │ (<span style=\"color: #00d7ff; text-decoration-color: #00d7ff\">None</span>, <span style=\"color: #00af00; text-decoration-color: #00af00\">512</span>)            │       <span style=\"color: #00af00; text-decoration-color: #00af00\">655,872</span> │\n",
              "├─────────────────────────────────┼────────────────────────┼───────────────┤\n",
              "│ dense_1 (<span style=\"color: #0087ff; text-decoration-color: #0087ff\">Dense</span>)                 │ (<span style=\"color: #00d7ff; text-decoration-color: #00d7ff\">None</span>, <span style=\"color: #00af00; text-decoration-color: #00af00\">6</span>)              │         <span style=\"color: #00af00; text-decoration-color: #00af00\">3,078</span> │\n",
              "└─────────────────────────────────┴────────────────────────┴───────────────┘\n",
              "</pre>\n"
            ]
          },
          "metadata": {}
        },
        {
          "output_type": "display_data",
          "data": {
            "text/plain": [
              "\u001b[1m Total params: \u001b[0m\u001b[38;5;34m4,713,641\u001b[0m (17.98 MB)\n"
            ],
            "text/html": [
              "<pre style=\"white-space:pre;overflow-x:auto;line-height:normal;font-family:Menlo,'DejaVu Sans Mono',consolas,'Courier New',monospace\"><span style=\"font-weight: bold\"> Total params: </span><span style=\"color: #00af00; text-decoration-color: #00af00\">4,713,641</span> (17.98 MB)\n",
              "</pre>\n"
            ]
          },
          "metadata": {}
        },
        {
          "output_type": "display_data",
          "data": {
            "text/plain": [
              "\u001b[1m Trainable params: \u001b[0m\u001b[38;5;34m4,669,058\u001b[0m (17.81 MB)\n"
            ],
            "text/html": [
              "<pre style=\"white-space:pre;overflow-x:auto;line-height:normal;font-family:Menlo,'DejaVu Sans Mono',consolas,'Courier New',monospace\"><span style=\"font-weight: bold\"> Trainable params: </span><span style=\"color: #00af00; text-decoration-color: #00af00\">4,669,058</span> (17.81 MB)\n",
              "</pre>\n"
            ]
          },
          "metadata": {}
        },
        {
          "output_type": "display_data",
          "data": {
            "text/plain": [
              "\u001b[1m Non-trainable params: \u001b[0m\u001b[38;5;34m44,583\u001b[0m (174.16 KB)\n"
            ],
            "text/html": [
              "<pre style=\"white-space:pre;overflow-x:auto;line-height:normal;font-family:Menlo,'DejaVu Sans Mono',consolas,'Courier New',monospace\"><span style=\"font-weight: bold\"> Non-trainable params: </span><span style=\"color: #00af00; text-decoration-color: #00af00\">44,583</span> (174.16 KB)\n",
              "</pre>\n"
            ]
          },
          "metadata": {}
        },
        {
          "output_type": "stream",
          "name": "stderr",
          "text": [
            "/usr/local/lib/python3.11/dist-packages/keras/src/trainers/data_adapters/py_dataset_adapter.py:121: UserWarning: Your `PyDataset` class should call `super().__init__(**kwargs)` in its constructor. `**kwargs` can include `workers`, `use_multiprocessing`, `max_queue_size`. Do not pass these arguments to `fit()`, as they will be ignored.\n",
            "  self._warn_if_super_not_called()\n"
          ]
        },
        {
          "output_type": "stream",
          "name": "stdout",
          "text": [
            "Epoch 1/50\n",
            "\u001b[1m104/104\u001b[0m \u001b[32m━━━━━━━━━━━━━━━━━━━━\u001b[0m\u001b[37m\u001b[0m \u001b[1m0s\u001b[0m 15s/step - accuracy: 0.2290 - loss: 2.9627 \n",
            "Epoch 1: val_loss improved from inf to 2.83548, saving model to /content/drive/MyDrive/dataset/retailclass/best_stool_classifier_efficientnet.h5\n"
          ]
        },
        {
          "output_type": "stream",
          "name": "stderr",
          "text": [
            "WARNING:absl:You are saving your model as an HDF5 file via `model.save()` or `keras.saving.save_model(model)`. This file format is considered legacy. We recommend using instead the native Keras format, e.g. `model.save('my_model.keras')` or `keras.saving.save_model(model, 'my_model.keras')`. \n"
          ]
        },
        {
          "output_type": "stream",
          "name": "stdout",
          "text": [
            "\b\b\b\b\b\b\b\b\b\b\b\b\b\b\b\b\b\b\b\b\b\b\b\b\b\b\b\b\b\b\b\b\b\b\b\b\b\b\b\b\b\b\b\b\b\b\b\b\b\b\b\b\b\b\b\b\b\b\b\b\b\b\b\b\b\b\b\b\b\b\b\b\b\b\r\u001b[1m104/104\u001b[0m \u001b[32m━━━━━━━━━━━━━━━━━━━━\u001b[0m\u001b[37m\u001b[0m \u001b[1m1824s\u001b[0m 17s/step - accuracy: 0.2299 - loss: 2.9596 - val_accuracy: 0.0433 - val_loss: 2.8355 - learning_rate: 1.0000e-04\n",
            "Epoch 2/50\n",
            "\u001b[1m  1/104\u001b[0m \u001b[37m━━━━━━━━━━━━━━━━━━━━\u001b[0m \u001b[1m19:36\u001b[0m 11s/step - accuracy: 0.3438 - loss: 2.6015"
          ]
        },
        {
          "output_type": "stream",
          "name": "stderr",
          "text": [
            "/usr/local/lib/python3.11/dist-packages/keras/src/trainers/epoch_iterator.py:107: UserWarning: Your input ran out of data; interrupting training. Make sure that your dataset or generator can generate at least `steps_per_epoch * epochs` batches. You may need to use the `.repeat()` function when building your dataset.\n",
            "  self._interrupted_warning()\n"
          ]
        },
        {
          "output_type": "stream",
          "name": "stdout",
          "text": [
            "\n",
            "Epoch 2: val_loss improved from 2.83548 to 2.82871, saving model to /content/drive/MyDrive/dataset/retailclass/best_stool_classifier_efficientnet.h5\n"
          ]
        },
        {
          "output_type": "stream",
          "name": "stderr",
          "text": [
            "WARNING:absl:You are saving your model as an HDF5 file via `model.save()` or `keras.saving.save_model(model)`. This file format is considered legacy. We recommend using instead the native Keras format, e.g. `model.save('my_model.keras')` or `keras.saving.save_model(model, 'my_model.keras')`. \n"
          ]
        },
        {
          "output_type": "stream",
          "name": "stdout",
          "text": [
            "\b\b\b\b\b\b\b\b\b\b\b\b\b\b\b\b\b\b\b\b\b\b\b\b\b\b\b\b\b\b\b\b\b\b\b\b\b\b\b\b\b\b\b\b\b\b\b\b\b\b\b\b\b\b\b\b\b\b\b\b\b\b\b\b\b\b\b\b\b\b\b\b\b\b\b\b\b\r\u001b[1m104/104\u001b[0m \u001b[32m━━━━━━━━━━━━━━━━━━━━\u001b[0m\u001b[37m\u001b[0m \u001b[1m46s\u001b[0m 338ms/step - accuracy: 0.3438 - loss: 2.6015 - val_accuracy: 0.0433 - val_loss: 2.8287 - learning_rate: 1.0000e-04\n",
            "Epoch 3/50\n",
            "\u001b[1m104/104\u001b[0m \u001b[32m━━━━━━━━━━━━━━━━━━━━\u001b[0m\u001b[37m\u001b[0m \u001b[1m0s\u001b[0m 10s/step - accuracy: 0.4954 - loss: 2.1200 \n",
            "Epoch 3: val_loss did not improve from 2.82871\n",
            "\u001b[1m104/104\u001b[0m \u001b[32m━━━━━━━━━━━━━━━━━━━━\u001b[0m\u001b[37m\u001b[0m \u001b[1m1101s\u001b[0m 11s/step - accuracy: 0.4956 - loss: 2.1193 - val_accuracy: 0.0433 - val_loss: 2.9763 - learning_rate: 1.0000e-04\n",
            "Epoch 4/50\n",
            "\u001b[1m  1/104\u001b[0m \u001b[37m━━━━━━━━━━━━━━━━━━━━\u001b[0m \u001b[1m16:33\u001b[0m 10s/step - accuracy: 0.5938 - loss: 1.5246\n",
            "Epoch 4: val_loss did not improve from 2.82871\n",
            "\u001b[1m104/104\u001b[0m \u001b[32m━━━━━━━━━━━━━━━━━━━━\u001b[0m\u001b[37m\u001b[0m \u001b[1m43s\u001b[0m 327ms/step - accuracy: 0.5938 - loss: 1.5246 - val_accuracy: 0.0433 - val_loss: 2.9701 - learning_rate: 1.0000e-04\n",
            "Epoch 5/50\n",
            "\u001b[1m104/104\u001b[0m \u001b[32m━━━━━━━━━━━━━━━━━━━━\u001b[0m\u001b[37m\u001b[0m \u001b[1m0s\u001b[0m 10s/step - accuracy: 0.5870 - loss: 1.7774 \n",
            "Epoch 5: val_loss did not improve from 2.82871\n",
            "\n",
            "Epoch 5: ReduceLROnPlateau reducing learning rate to 1.9999999494757503e-05.\n",
            "\u001b[1m104/104\u001b[0m \u001b[32m━━━━━━━━━━━━━━━━━━━━\u001b[0m\u001b[37m\u001b[0m \u001b[1m1166s\u001b[0m 11s/step - accuracy: 0.5872 - loss: 1.7769 - val_accuracy: 0.0721 - val_loss: 3.5056 - learning_rate: 1.0000e-04\n",
            "Epoch 6/50\n",
            "\u001b[1m  1/104\u001b[0m \u001b[37m━━━━━━━━━━━━━━━━━━━━\u001b[0m \u001b[1m14:51\u001b[0m 9s/step - accuracy: 0.5312 - loss: 1.9013\n",
            "Epoch 6: val_loss did not improve from 2.82871\n",
            "\u001b[1m104/104\u001b[0m \u001b[32m━━━━━━━━━━━━━━━━━━━━\u001b[0m\u001b[37m\u001b[0m \u001b[1m80s\u001b[0m 691ms/step - accuracy: 0.5312 - loss: 1.9013 - val_accuracy: 0.0721 - val_loss: 3.5119 - learning_rate: 2.0000e-05\n",
            "Epoch 7/50\n",
            "\u001b[1m104/104\u001b[0m \u001b[32m━━━━━━━━━━━━━━━━━━━━\u001b[0m\u001b[37m\u001b[0m \u001b[1m0s\u001b[0m 10s/step - accuracy: 0.6450 - loss: 1.5172 \n",
            "Epoch 7: val_loss did not improve from 2.82871\n",
            "\u001b[1m104/104\u001b[0m \u001b[32m━━━━━━━━━━━━━━━━━━━━\u001b[0m\u001b[37m\u001b[0m \u001b[1m1224s\u001b[0m 11s/step - accuracy: 0.6449 - loss: 1.5175 - val_accuracy: 0.2909 - val_loss: 2.8478 - learning_rate: 2.0000e-05\n",
            "Epoch 8/50\n",
            "\u001b[1m  1/104\u001b[0m \u001b[37m━━━━━━━━━━━━━━━━━━━━\u001b[0m \u001b[1m15:49\u001b[0m 9s/step - accuracy: 0.7188 - loss: 1.7396\n",
            "Epoch 8: val_loss did not improve from 2.82871\n",
            "\n",
            "Epoch 8: ReduceLROnPlateau reducing learning rate to 3.999999898951501e-06.\n",
            "\u001b[1m104/104\u001b[0m \u001b[32m━━━━━━━━━━━━━━━━━━━━\u001b[0m\u001b[37m\u001b[0m \u001b[1m79s\u001b[0m 678ms/step - accuracy: 0.7188 - loss: 1.7396 - val_accuracy: 0.2981 - val_loss: 2.8388 - learning_rate: 2.0000e-05\n",
            "Epoch 9/50\n",
            "\u001b[1m104/104\u001b[0m \u001b[32m━━━━━━━━━━━━━━━━━━━━\u001b[0m\u001b[37m\u001b[0m \u001b[1m0s\u001b[0m 11s/step - accuracy: 0.6639 - loss: 1.4827 \n",
            "Epoch 9: val_loss improved from 2.82871 to 2.04366, saving model to /content/drive/MyDrive/dataset/retailclass/best_stool_classifier_efficientnet.h5\n"
          ]
        },
        {
          "output_type": "stream",
          "name": "stderr",
          "text": [
            "WARNING:absl:You are saving your model as an HDF5 file via `model.save()` or `keras.saving.save_model(model)`. This file format is considered legacy. We recommend using instead the native Keras format, e.g. `model.save('my_model.keras')` or `keras.saving.save_model(model, 'my_model.keras')`. \n"
          ]
        },
        {
          "output_type": "stream",
          "name": "stdout",
          "text": [
            "\b\b\b\b\b\b\b\b\b\b\b\b\b\b\b\b\b\b\b\b\b\b\b\b\b\b\b\b\b\b\b\b\b\b\b\b\b\b\b\b\b\b\b\b\b\b\b\b\b\b\b\b\b\b\b\b\b\b\b\b\b\b\b\b\b\b\b\b\b\b\b\b\b\b\r\u001b[1m104/104\u001b[0m \u001b[32m━━━━━━━━━━━━━━━━━━━━\u001b[0m\u001b[37m\u001b[0m \u001b[1m1226s\u001b[0m 11s/step - accuracy: 0.6639 - loss: 1.4830 - val_accuracy: 0.5337 - val_loss: 2.0437 - learning_rate: 4.0000e-06\n",
            "Epoch 10/50\n",
            "\u001b[1m  1/104\u001b[0m \u001b[37m━━━━━━━━━━━━━━━━━━━━\u001b[0m \u001b[1m15:48\u001b[0m 9s/step - accuracy: 0.5938 - loss: 1.9662\n",
            "Epoch 10: val_loss did not improve from 2.04366\n",
            "\u001b[1m104/104\u001b[0m \u001b[32m━━━━━━━━━━━━━━━━━━━━\u001b[0m\u001b[37m\u001b[0m \u001b[1m47s\u001b[0m 370ms/step - accuracy: 0.5938 - loss: 1.9662 - val_accuracy: 0.5312 - val_loss: 2.0462 - learning_rate: 4.0000e-06\n",
            "Epoch 11/50\n",
            "\u001b[1m104/104\u001b[0m \u001b[32m━━━━━━━━━━━━━━━━━━━━\u001b[0m\u001b[37m\u001b[0m \u001b[1m0s\u001b[0m 10s/step - accuracy: 0.6566 - loss: 1.5503 \n",
            "Epoch 11: val_loss did not improve from 2.04366\n",
            "\u001b[1m104/104\u001b[0m \u001b[32m━━━━━━━━━━━━━━━━━━━━\u001b[0m\u001b[37m\u001b[0m \u001b[1m1162s\u001b[0m 11s/step - accuracy: 0.6565 - loss: 1.5500 - val_accuracy: 0.5240 - val_loss: 2.0446 - learning_rate: 4.0000e-06\n",
            "Epoch 12/50\n",
            "\u001b[1m  1/104\u001b[0m \u001b[37m━━━━━━━━━━━━━━━━━━━━\u001b[0m \u001b[1m17:02\u001b[0m 10s/step - accuracy: 0.6250 - loss: 1.1591\n",
            "Epoch 12: val_loss improved from 2.04366 to 2.03358, saving model to /content/drive/MyDrive/dataset/retailclass/best_stool_classifier_efficientnet.h5\n"
          ]
        },
        {
          "output_type": "stream",
          "name": "stderr",
          "text": [
            "WARNING:absl:You are saving your model as an HDF5 file via `model.save()` or `keras.saving.save_model(model)`. This file format is considered legacy. We recommend using instead the native Keras format, e.g. `model.save('my_model.keras')` or `keras.saving.save_model(model, 'my_model.keras')`. \n"
          ]
        },
        {
          "output_type": "stream",
          "name": "stdout",
          "text": [
            "\b\b\b\b\b\b\b\b\b\b\b\b\b\b\b\b\b\b\b\b\b\b\b\b\b\b\b\b\b\b\b\b\b\b\b\b\b\b\b\b\b\b\b\b\b\b\b\b\b\b\b\b\b\b\b\b\b\b\b\b\b\b\b\b\b\b\b\b\b\b\b\b\b\b\b\b\b\r\u001b[1m104/104\u001b[0m \u001b[32m━━━━━━━━━━━━━━━━━━━━\u001b[0m\u001b[37m\u001b[0m \u001b[1m86s\u001b[0m 738ms/step - accuracy: 0.6250 - loss: 1.1591 - val_accuracy: 0.5264 - val_loss: 2.0336 - learning_rate: 4.0000e-06\n",
            "Epoch 13/50\n",
            "\u001b[1m104/104\u001b[0m \u001b[32m━━━━━━━━━━━━━━━━━━━━\u001b[0m\u001b[37m\u001b[0m \u001b[1m0s\u001b[0m 10s/step - accuracy: 0.6550 - loss: 1.4645 \n",
            "Epoch 13: val_loss improved from 2.03358 to 1.61692, saving model to /content/drive/MyDrive/dataset/retailclass/best_stool_classifier_efficientnet.h5\n"
          ]
        },
        {
          "output_type": "stream",
          "name": "stderr",
          "text": [
            "WARNING:absl:You are saving your model as an HDF5 file via `model.save()` or `keras.saving.save_model(model)`. This file format is considered legacy. We recommend using instead the native Keras format, e.g. `model.save('my_model.keras')` or `keras.saving.save_model(model, 'my_model.keras')`. \n"
          ]
        },
        {
          "output_type": "stream",
          "name": "stdout",
          "text": [
            "\b\b\b\b\b\b\b\b\b\b\b\b\b\b\b\b\b\b\b\b\b\b\b\b\b\b\b\b\b\b\b\b\b\b\b\b\b\b\b\b\b\b\b\b\b\b\b\b\b\b\b\b\b\b\b\b\b\b\b\b\b\b\b\b\b\b\b\b\b\b\b\b\b\b\r\u001b[1m104/104\u001b[0m \u001b[32m━━━━━━━━━━━━━━━━━━━━\u001b[0m\u001b[37m\u001b[0m \u001b[1m1118s\u001b[0m 11s/step - accuracy: 0.6551 - loss: 1.4645 - val_accuracy: 0.6899 - val_loss: 1.6169 - learning_rate: 4.0000e-06\n",
            "Epoch 14/50\n",
            "\u001b[1m  1/104\u001b[0m \u001b[37m━━━━━━━━━━━━━━━━━━━━\u001b[0m \u001b[1m18:54\u001b[0m 11s/step - accuracy: 0.7812 - loss: 1.1076\n",
            "Epoch 14: val_loss did not improve from 1.61692\n",
            "\u001b[1m104/104\u001b[0m \u001b[32m━━━━━━━━━━━━━━━━━━━━\u001b[0m\u001b[37m\u001b[0m \u001b[1m77s\u001b[0m 636ms/step - accuracy: 0.7812 - loss: 1.1076 - val_accuracy: 0.6899 - val_loss: 1.6208 - learning_rate: 4.0000e-06\n",
            "Epoch 15/50\n",
            "\u001b[1m104/104\u001b[0m \u001b[32m━━━━━━━━━━━━━━━━━━━━\u001b[0m\u001b[37m\u001b[0m \u001b[1m0s\u001b[0m 10s/step - accuracy: 0.6626 - loss: 1.4761 \n",
            "Epoch 15: val_loss improved from 1.61692 to 1.54661, saving model to /content/drive/MyDrive/dataset/retailclass/best_stool_classifier_efficientnet.h5\n"
          ]
        },
        {
          "output_type": "stream",
          "name": "stderr",
          "text": [
            "WARNING:absl:You are saving your model as an HDF5 file via `model.save()` or `keras.saving.save_model(model)`. This file format is considered legacy. We recommend using instead the native Keras format, e.g. `model.save('my_model.keras')` or `keras.saving.save_model(model, 'my_model.keras')`. \n"
          ]
        },
        {
          "output_type": "stream",
          "name": "stdout",
          "text": [
            "\b\b\b\b\b\b\b\b\b\b\b\b\b\b\b\b\b\b\b\b\b\b\b\b\b\b\b\b\b\b\b\b\b\b\b\b\b\b\b\b\b\b\b\b\b\b\b\b\b\b\b\b\b\b\b\b\b\b\b\b\b\b\b\b\b\b\b\b\b\b\b\b\b\b\r\u001b[1m104/104\u001b[0m \u001b[32m━━━━━━━━━━━━━━━━━━━━\u001b[0m\u001b[37m\u001b[0m \u001b[1m1150s\u001b[0m 11s/step - accuracy: 0.6627 - loss: 1.4760 - val_accuracy: 0.7452 - val_loss: 1.5466 - learning_rate: 4.0000e-06\n",
            "Epoch 16/50\n",
            "\u001b[1m  1/104\u001b[0m \u001b[37m━━━━━━━━━━━━━━━━━━━━\u001b[0m \u001b[1m18:26\u001b[0m 11s/step - accuracy: 0.5938 - loss: 1.2705\n",
            "Epoch 16: val_loss did not improve from 1.54661\n",
            "\u001b[1m104/104\u001b[0m \u001b[32m━━━━━━━━━━━━━━━━━━━━\u001b[0m\u001b[37m\u001b[0m \u001b[1m74s\u001b[0m 614ms/step - accuracy: 0.5938 - loss: 1.2705 - val_accuracy: 0.7500 - val_loss: 1.5478 - learning_rate: 4.0000e-06\n",
            "Epoch 17/50\n",
            "\u001b[1m104/104\u001b[0m \u001b[32m━━━━━━━━━━━━━━━━━━━━\u001b[0m\u001b[37m\u001b[0m \u001b[1m0s\u001b[0m 10s/step - accuracy: 0.6830 - loss: 1.5018 \n",
            "Epoch 17: val_loss did not improve from 1.54661\n",
            "\u001b[1m104/104\u001b[0m \u001b[32m━━━━━━━━━━━━━━━━━━━━\u001b[0m\u001b[37m\u001b[0m \u001b[1m1163s\u001b[0m 11s/step - accuracy: 0.6829 - loss: 1.5017 - val_accuracy: 0.6923 - val_loss: 1.6141 - learning_rate: 4.0000e-06\n",
            "Epoch 18/50\n",
            "\u001b[1m  1/104\u001b[0m \u001b[37m━━━━━━━━━━━━━━━━━━━━\u001b[0m \u001b[1m16:24\u001b[0m 10s/step - accuracy: 0.6562 - loss: 1.1948\n",
            "Epoch 18: val_loss did not improve from 1.54661\n",
            "\n",
            "Epoch 18: ReduceLROnPlateau reducing learning rate to 1e-06.\n",
            "\u001b[1m104/104\u001b[0m \u001b[32m━━━━━━━━━━━━━━━━━━━━\u001b[0m\u001b[37m\u001b[0m \u001b[1m79s\u001b[0m 675ms/step - accuracy: 0.6562 - loss: 1.1948 - val_accuracy: 0.6899 - val_loss: 1.6180 - learning_rate: 4.0000e-06\n",
            "Epoch 19/50\n",
            "\u001b[1m104/104\u001b[0m \u001b[32m━━━━━━━━━━━━━━━━━━━━\u001b[0m\u001b[37m\u001b[0m \u001b[1m0s\u001b[0m 10s/step - accuracy: 0.6692 - loss: 1.5058 \n",
            "Epoch 19: val_loss did not improve from 1.54661\n",
            "\u001b[1m104/104\u001b[0m \u001b[32m━━━━━━━━━━━━━━━━━━━━\u001b[0m\u001b[37m\u001b[0m \u001b[1m1162s\u001b[0m 11s/step - accuracy: 0.6692 - loss: 1.5052 - val_accuracy: 0.7019 - val_loss: 1.6082 - learning_rate: 1.0000e-06\n",
            "Epoch 20/50\n",
            "\u001b[1m  1/104\u001b[0m \u001b[37m━━━━━━━━━━━━━━━━━━━━\u001b[0m \u001b[1m15:49\u001b[0m 9s/step - accuracy: 0.7188 - loss: 1.1387\n",
            "Epoch 20: val_loss did not improve from 1.54661\n",
            "\u001b[1m104/104\u001b[0m \u001b[32m━━━━━━━━━━━━━━━━━━━━\u001b[0m\u001b[37m\u001b[0m \u001b[1m43s\u001b[0m 326ms/step - accuracy: 0.7188 - loss: 1.1387 - val_accuracy: 0.7067 - val_loss: 1.6076 - learning_rate: 1.0000e-06\n",
            "Epoch 21/50\n",
            "\u001b[1m104/104\u001b[0m \u001b[32m━━━━━━━━━━━━━━━━━━━━\u001b[0m\u001b[37m\u001b[0m \u001b[1m0s\u001b[0m 10s/step - accuracy: 0.6762 - loss: 1.4370 \n",
            "Epoch 21: val_loss did not improve from 1.54661\n",
            "\u001b[1m104/104\u001b[0m \u001b[32m━━━━━━━━━━━━━━━━━━━━\u001b[0m\u001b[37m\u001b[0m \u001b[1m1162s\u001b[0m 11s/step - accuracy: 0.6762 - loss: 1.4371 - val_accuracy: 0.6899 - val_loss: 1.6322 - learning_rate: 1.0000e-06\n",
            "Epoch 22/50\n",
            "\u001b[1m  1/104\u001b[0m \u001b[37m━━━━━━━━━━━━━━━━━━━━\u001b[0m \u001b[1m19:06\u001b[0m 11s/step - accuracy: 0.6875 - loss: 1.2881\n",
            "Epoch 22: val_loss did not improve from 1.54661\n",
            "\u001b[1m104/104\u001b[0m \u001b[32m━━━━━━━━━━━━━━━━━━━━\u001b[0m\u001b[37m\u001b[0m \u001b[1m82s\u001b[0m 691ms/step - accuracy: 0.6875 - loss: 1.2881 - val_accuracy: 0.6899 - val_loss: 1.6322 - learning_rate: 1.0000e-06\n",
            "Epoch 23/50\n",
            "\u001b[1m104/104\u001b[0m \u001b[32m━━━━━━━━━━━━━━━━━━━━\u001b[0m\u001b[37m\u001b[0m \u001b[1m0s\u001b[0m 10s/step - accuracy: 0.6572 - loss: 1.4263 \n",
            "Epoch 23: val_loss did not improve from 1.54661\n",
            "\u001b[1m104/104\u001b[0m \u001b[32m━━━━━━━━━━━━━━━━━━━━\u001b[0m\u001b[37m\u001b[0m \u001b[1m1125s\u001b[0m 11s/step - accuracy: 0.6574 - loss: 1.4265 - val_accuracy: 0.6635 - val_loss: 1.7043 - learning_rate: 1.0000e-06\n",
            "Epoch 24/50\n",
            "\u001b[1m  1/104\u001b[0m \u001b[37m━━━━━━━━━━━━━━━━━━━━\u001b[0m \u001b[1m15:01\u001b[0m 9s/step - accuracy: 0.9062 - loss: 0.9144\n",
            "Epoch 24: val_loss did not improve from 1.54661\n",
            "\u001b[1m104/104\u001b[0m \u001b[32m━━━━━━━━━━━━━━━━━━━━\u001b[0m\u001b[37m\u001b[0m \u001b[1m43s\u001b[0m 331ms/step - accuracy: 0.9062 - loss: 0.9144 - val_accuracy: 0.6635 - val_loss: 1.7022 - learning_rate: 1.0000e-06\n",
            "Epoch 25/50\n",
            "\u001b[1m104/104\u001b[0m \u001b[32m━━━━━━━━━━━━━━━━━━━━\u001b[0m\u001b[37m\u001b[0m \u001b[1m0s\u001b[0m 10s/step - accuracy: 0.6653 - loss: 1.5487 \n",
            "Epoch 25: val_loss did not improve from 1.54661\n",
            "\u001b[1m104/104\u001b[0m \u001b[32m━━━━━━━━━━━━━━━━━━━━\u001b[0m\u001b[37m\u001b[0m \u001b[1m1162s\u001b[0m 11s/step - accuracy: 0.6653 - loss: 1.5482 - val_accuracy: 0.6755 - val_loss: 1.6817 - learning_rate: 1.0000e-06\n",
            "Epoch 25: early stopping\n",
            "Restoring model weights from the end of the best epoch: 15.\n",
            "Loading best model from: /content/drive/MyDrive/dataset/retailclass/best_stool_classifier_efficientnet.h5\n"
          ]
        },
        {
          "output_type": "stream",
          "name": "stderr",
          "text": [
            "WARNING:absl:Compiled the loaded model, but the compiled metrics have yet to be built. `model.compile_metrics` will be empty until you train or evaluate the model.\n"
          ]
        },
        {
          "output_type": "stream",
          "name": "stdout",
          "text": [
            "Evaluating model on test data...\n",
            "\u001b[1m14/14\u001b[0m \u001b[32m━━━━━━━━━━━━━━━━━━━━\u001b[0m\u001b[37m\u001b[0m \u001b[1m176s\u001b[0m 13s/step - accuracy: 0.0643 - loss: 175.7201\n",
            "Test Loss: 176.7429\n",
            "Test Accuracy: 5.91%\n",
            "Predicting classes for test data...\n",
            "\u001b[1m14/14\u001b[0m \u001b[32m━━━━━━━━━━━━━━━━━━━━\u001b[0m\u001b[37m\u001b[0m \u001b[1m41s\u001b[0m 3s/step\n",
            "\n",
            "Classification Report:\n",
            "              precision    recall  f1-score   support\n",
            "\n",
            "       Blood       1.00      0.06      0.11        18\n",
            "    Diarrhea       0.54      0.05      0.09       146\n",
            "       Green       0.00      0.00      0.00        14\n",
            "       Mucus       0.04      0.89      0.08        19\n",
            "      Normal       0.00      0.00      0.00       182\n",
            "      Yellow       0.00      0.00      0.00        44\n",
            "\n",
            "    accuracy                           0.06       423\n",
            "   macro avg       0.26      0.17      0.05       423\n",
            "weighted avg       0.23      0.06      0.04       423\n",
            "\n"
          ]
        },
        {
          "output_type": "display_data",
          "data": {
            "text/plain": [
              "<Figure size 1000x800 with 2 Axes>"
            ],
            "image/png": "[encoded data removed]"
          },
          "metadata": {}
        }
      ],
      "source": [
        "import os\n",
        "import numpy as np\n",
        "import tensorflow as tf\n",
        "from tensorflow.keras.preprocessing.image import ImageDataGenerator\n",
        "from tensorflow.keras.applications import EfficientNetB0 # เปลี่ยนมาใช้ EfficientNetB0\n",
        "from tensorflow.keras import layers, models\n",
        "from tensorflow.keras.callbacks import EarlyStopping, ModelCheckpoint, ReduceLROnPlateau # เพิ่ม ReduceLROnPlateau\n",
        "from tensorflow.keras.optimizers import Adam\n",
        "from tensorflow.keras.regularizers import l2 # สำหรับ L2 Regularization\n",
        "from sklearn.utils import class_weight\n",
        "from sklearn.metrics import classification_report\n",
        "\n",
        "# กำหนด path ของข้อมูล (เหมือนเดิม)\n",
        "train_dir = \"/content/drive/MyDrive/dataset/train\"\n",
        "valid_dir = \"/content/drive/MyDrive/dataset/valid\"\n",
        "test_dir = \"/content/drive/MyDrive/dataset/test\"\n",
        "model_save_path = '/content/drive/MyDrive/dataset/retailclass/best_stool_classifier_efficientnet.h5' # เปลี่ยนชื่อไฟล์โมเดล\n",
        "\n",
        "# 1. เตรียม Data Generator พร้อม Augmentation\n",
        "# Augmentation สำหรับ train_datagen ช่วยเพิ่มความหลากหลายของข้อมูลและลด overfitting\n",
        "train_datagen = ImageDataGenerator(\n",
        "    rescale=1./255,\n",
        "    rotation_range=30, # เพิ่ม rotation\n",
        "    width_shift_range=0.2, # เพิ่ม width shift\n",
        "    height_shift_range=0.2, # เพิ่ม height shift\n",
        "    shear_range=0.2,\n",
        "    zoom_range=0.2,\n",
        "    horizontal_flip=True,\n",
        "    fill_mode='nearest' # วิธีการเติม pixel ที่หายไปจากการ transform\n",
        ")\n",
        "\n",
        "# Validation และ Test data ไม่ควรมีการ Augmentation, แค่ rescale\n",
        "valid_datagen = ImageDataGenerator(rescale=1./255)\n",
        "test_datagen = ImageDataGenerator(rescale=1./255)\n",
        "\n",
        "# 2. โหลดข้อมูลจากโฟลเดอร์\n",
        "BATCH_SIZE = 32 # สามารถปรับได้ตามหน่วยความจำ GPU\n",
        "IMG_SIZE = (224, 224) # EfficientNetB0 สามารถใช้ขนาดนี้ได้\n",
        "\n",
        "train_generator = train_datagen.flow_from_directory(\n",
        "    train_dir,\n",
        "    target_size=IMG_SIZE,\n",
        "    batch_size=BATCH_SIZE,\n",
        "    class_mode='categorical',\n",
        "    shuffle=True # shuffle ข้อมูล train\n",
        ")\n",
        "\n",
        "valid_generator = valid_datagen.flow_from_directory(\n",
        "    valid_dir,\n",
        "    target_size=IMG_SIZE,\n",
        "    batch_size=BATCH_SIZE,\n",
        "    class_mode='categorical',\n",
        "    shuffle=False # ไม่ shuffle validation data เพื่อให้ val_loss/val_acc คงที่ต่อ epoch\n",
        ")\n",
        "\n",
        "test_generator = test_datagen.flow_from_directory(\n",
        "    test_dir,\n",
        "    target_size=IMG_SIZE,\n",
        "    batch_size=BATCH_SIZE,\n",
        "    class_mode='categorical',\n",
        "    shuffle=False  # << สำคัญ: ไม่ shuffle test data เพื่อให้ y_true ตรงกับ y_pred\n",
        ")\n",
        "\n",
        "# 3. คำนวณ Class Weights เพื่อจัดการ Imbalance\n",
        "# การทำเช่นนี้จะช่วยให้โมเดลให้ความสำคัญกับคลาสที่มีจำนวนน้อย (minority classes) มากขึ้น\n",
        "class_labels = np.unique(train_generator.classes)\n",
        "calculated_class_weights = class_weight.compute_class_weight(\n",
        "    'balanced',\n",
        "    classes=class_labels,\n",
        "    y=train_generator.classes\n",
        ")\n",
        "train_class_weights = dict(enumerate(calculated_class_weights))\n",
        "print(\"Class Indices:\", train_generator.class_indices)\n",
        "print(\"Calculated Class Weights for training:\", train_class_weights)\n",
        "\n",
        "# 4. สร้างโมเดลโดยใช้ Pre-trained EfficientNetB0\n",
        "# โหลด base model EfficientNetB0 พร้อม pre-trained weights จาก ImageNet\n",
        "# include_top=False คือไม่เอา fully connected layer สุดท้ายของ EfficientNetB0 มา\n",
        "base_model = EfficientNetB0(weights='imagenet', include_top=False, input_shape=(IMG_SIZE[0], IMG_SIZE[1], 3))\n",
        "\n",
        "# Fine-tuning: Unfreeze base_model ทั้งหมดหรือบางส่วน\n",
        "# การ unfreeze ทั้งหมดและใช้ learning rate ต่ำเป็นวิธีที่นิยม\n",
        "base_model.trainable = True\n",
        "\n",
        "# อาจจะลอง unfreeze layers ท้ายๆ ก่อนก็ได้ครับ เช่น:\n",
        "# for layer in base_model.layers[:-20]: # Freeze layers ต้นๆ, unfreeze 20 layers ท้าย\n",
        "#    layer.trainable = False\n",
        "\n",
        "print(f\"Number of layers in the base model: {len(base_model.layers)}\")\n",
        "\n",
        "# สร้างโมเดลใหม่โดยต่อยอดจาก base_model\n",
        "# เพิ่ม GlobalAveragePooling2D เพื่อลดมิติ features\n",
        "# เพิ่ม BatchNormalization เพื่อช่วยให้การ train เสถียรขึ้น\n",
        "# เพิ่ม Dense layer ที่มีจำนวน units น้อยลง และ L2 regularization เพื่อป้องกัน overfitting\n",
        "# Dropout ยังคงมีประโยชน์\n",
        "model = models.Sequential([\n",
        "    base_model,\n",
        "    layers.GlobalAveragePooling2D(),\n",
        "    layers.BatchNormalization(), # << เพิ่ม BatchNormalization\n",
        "    layers.Dropout(0.5),      # Dropout เพื่อป้องกัน Overfitting\n",
        "    layers.Dense(512, activation='relu', kernel_regularizer=l2(0.001)), # << ลด Units, เพิ่ม L2 Regularization\n",
        "    layers.Dense(len(train_generator.class_indices), activation='softmax') # Output layer เท่ากับจำนวน class\n",
        "])\n",
        "\n",
        "# 5. คอมไพล์โมเดล\n",
        "# ใช้ learning rate เริ่มต้นที่เหมาะสม และจะมีการปรับลดด้วย ReduceLROnPlateau\n",
        "optimizer = Adam(learning_rate=1e-4) # ลองเริ่มต้นด้วย learning rate ที่สูงขึ้นเล็กน้อย\n",
        "model.compile(optimizer=optimizer, loss='categorical_crossentropy', metrics=['accuracy'])\n",
        "\n",
        "model.summary()\n",
        "\n",
        "# 6. Callbacks\n",
        "# EarlyStopping: หยุด train ถ้า val_loss ไม่ดีขึ้น\n",
        "early_stopping = EarlyStopping(monitor='val_loss', patience=10, restore_best_weights=True, verbose=1) # เพิ่ม patience\n",
        "\n",
        "# ModelCheckpoint: บันทึกโมเดลที่ดีที่สุด dựa trên val_loss\n",
        "checkpoint = ModelCheckpoint(\n",
        "    model_save_path,\n",
        "    monitor='val_loss',\n",
        "    save_best_only=True,\n",
        "    verbose=1\n",
        ")\n",
        "\n",
        "# ReduceLROnPlateau: ลด learning rate เมื่อ val_loss ไม่ดีขึ้น\n",
        "reduce_lr = ReduceLROnPlateau(monitor='val_loss', factor=0.2, patience=3, min_lr=1e-6, verbose=1) # ปรับ patience และ min_lr\n",
        "\n",
        "# 7. ฝึกโมเดล\n",
        "EPOCHS = 50 # เพิ่มจำนวน Epochs สูงสุด, EarlyStopping จะจัดการเอง\n",
        "\n",
        "history = model.fit(\n",
        "    train_generator,\n",
        "    steps_per_epoch=train_generator.samples // train_generator.batch_size,\n",
        "    epochs=EPOCHS,\n",
        "    validation_data=valid_generator,\n",
        "    validation_steps=valid_generator.samples // valid_generator.batch_size,\n",
        "    callbacks=[early_stopping, checkpoint, reduce_lr], # เพิ่ม reduce_lr\n",
        "    class_weight=train_class_weights # << เพิ่ม class_weight\n",
        ")\n",
        "\n",
        "# 8. โหลดโมเดลที่ดีที่สุดที่บันทึกไว้\n",
        "print(f\"Loading best model from: {model_save_path}\")\n",
        "best_model = models.load_model(model_save_path)\n",
        "\n",
        "# 9. ประเมินผลบนชุดข้อมูล Test\n",
        "# คำนวณ steps สำหรับ test set ให้ถูกต้อง\n",
        "num_test_samples = test_generator.samples\n",
        "test_steps = num_test_samples // test_generator.batch_size\n",
        "if num_test_samples % test_generator.batch_size != 0:\n",
        "    test_steps += 1\n",
        "\n",
        "print(\"Evaluating model on test data...\")\n",
        "test_loss, test_acc = best_model.evaluate(test_generator, steps=test_steps)\n",
        "print(f\"Test Loss: {test_loss:.4f}\")\n",
        "print(f\"Test Accuracy: {test_acc * 100:.2f}%\")\n",
        "\n",
        "# 10. คำนวณ F1 score และค่าประเมินอื่นๆ\n",
        "print(\"Predicting classes for test data...\")\n",
        "test_generator.reset() # << สำคัญ: reset generator ก่อน predict\n",
        "y_pred_proba = best_model.predict(test_generator, steps=test_steps)\n",
        "y_pred_classes = np.argmax(y_pred_proba, axis=1)\n",
        "\n",
        "# ดึง label จริงจาก test set\n",
        "y_true = test_generator.classes\n",
        "\n",
        "# Ensure y_pred_classes และ y_true มีจำนวนเท่ากัน\n",
        "# (กรณีที่ predict steps ทำให้ได้ sample เกินมาเล็กน้อยใน batch สุดท้าย แต่ y_pred_classes จะถูกตัดให้พอดีกับจำนวน samples จริง)\n",
        "if len(y_pred_classes) > len(y_true):\n",
        "    y_pred_classes = y_pred_classes[:len(y_true)]\n",
        "\n",
        "\n",
        "# สร้าง target_names จาก class_indices ของ train_generator (หรือ test_generator ก็ได้ถ้าเหมือนกัน)\n",
        "target_names = list(train_generator.class_indices.keys())\n",
        "\n",
        "print(\"\\nClassification Report:\")\n",
        "try:\n",
        "    report = classification_report(y_true, y_pred_classes, target_names=target_names, zero_division=0)\n",
        "    print(report)\n",
        "except ValueError as e:\n",
        "    print(f\"Error generating classification report: {e}\")\n",
        "    print(\"This might happen if y_true or y_pred_classes contain labels not in target_names, or are empty.\")\n",
        "    print(\"Unique true labels:\", np.unique(y_true))\n",
        "    print(\"Unique predicted labels:\", np.unique(y_pred_classes))\n",
        "\n",
        "# (Optional) แสดง Confusion Matrix\n",
        "import matplotlib.pyplot as plt\n",
        "import seaborn as sns\n",
        "from sklearn.metrics import confusion_matrix\n",
        "\n",
        "conf_matrix = confusion_matrix(y_true, y_pred_classes)\n",
        "plt.figure(figsize=(10, 8))\n",
        "sns.heatmap(conf_matrix, annot=True, fmt='d', cmap='Blues',\n",
        "            xticklabels=target_names, yticklabels=target_names)\n",
        "plt.xlabel('Predicted Labels')\n",
        "plt.ylabel('True Labels')\n",
        "plt.title('Confusion Matrix')\n",
        "plt.show()"
      ]
    },
    {
      "cell_type": "code",
      "source": [
        "from google.colab import drive\n",
        "drive.mount('/content/drive')"
      ],
      "metadata": {
        "id": "T3ecpe3Ux8UA"
      },
      "execution_count": null,
      "outputs": []
    },
    {
      "cell_type": "code",
      "source": [],
      "metadata": {
        "id": "lM9ZKzhdviCq"
      },
      "execution_count": null,
      "outputs": []
    },
    {
      "cell_type": "code",
      "source": [],
      "metadata": {
        "id": "_gTjxZngviAW"
      },
      "execution_count": null,
      "outputs": []
    },
    {
      "cell_type": "code",
      "source": [],
      "metadata": {
        "id": "5PqkD08xvh95"
      },
      "execution_count": null,
      "outputs": []
    },
    {
      "cell_type": "code",
      "source": [],
      "metadata": {
        "id": "3l9FJOdivh7m"
      },
      "execution_count": null,
      "outputs": []
    },
    {
      "cell_type": "code",
      "source": [],
      "metadata": {
        "id": "U7gHv1mtvh5L"
      },
      "execution_count": null,
      "outputs": []
    },
    {
      "cell_type": "code",
      "source": [],
      "metadata": {
        "id": "pSGFtl0dvh27"
      },
      "execution_count": null,
      "outputs": []
    },
    {
      "cell_type": "code",
      "source": [],
      "metadata": {
        "id": "bs9jOyXQvh0j"
      },
      "execution_count": null,
      "outputs": []
    },
    {
      "cell_type": "code",
      "source": [],
      "metadata": {
        "id": "E3Xy9p49vhx8"
      },
      "execution_count": null,
      "outputs": []
    }
  ]
}